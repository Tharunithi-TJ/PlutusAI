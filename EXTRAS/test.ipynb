{
 "cells": [
  {
   "cell_type": "code",
   "execution_count": 5,
   "id": "ac8a3f9b",
   "metadata": {},
   "outputs": [],
   "source": [
    "import pandas as pd\n",
    "import numpy as np\n",
    "import seaborn as sns\n",
    "import matplotlib.pyplot as plt"
   ]
  },
  {
   "cell_type": "code",
   "execution_count": 3,
   "id": "97fec1ba",
   "metadata": {},
   "outputs": [
    {
     "name": "stdout",
     "output_type": "stream",
     "text": [
      "<class 'pandas.core.frame.DataFrame'>\n",
      "RangeIndex: 1321 entries, 0 to 1320\n",
      "Data columns (total 24 columns):\n",
      " #   Column                      Non-Null Count  Dtype  \n",
      "---  ------                      --------------  -----  \n",
      " 0   Dummy Policy No             1321 non-null   int64  \n",
      " 1   ASSURED_AGE                 1321 non-null   int64  \n",
      " 2   NOMINEE_RELATION            1321 non-null   object \n",
      " 3   OCCUPATION                  1321 non-null   object \n",
      " 4   POLICY SUMASSURED           1321 non-null   int64  \n",
      " 5   Premium                     1321 non-null   float64\n",
      " 6   PREMIUMPAYMENTMODE          1321 non-null   object \n",
      " 7   Annual Income               1321 non-null   int64  \n",
      " 8   HOLDERMARITALSTATUS         1321 non-null   object \n",
      " 9   INDIV_REQUIREMENTFLAG       1321 non-null   object \n",
      " 10  Policy Term                 1321 non-null   int64  \n",
      " 11  Policy Payment Term         1321 non-null   int64  \n",
      " 12  CORRESPONDENCECITY          1321 non-null   object \n",
      " 13  CORRESPONDENCESTATE         1321 non-null   object \n",
      " 14  CORRESPONDENCEPOSTCODE      1321 non-null   object \n",
      " 15  Product Type                1321 non-null   object \n",
      " 16  CHANNEL                     1321 non-null   object \n",
      " 17  Bank code                   858 non-null    float64\n",
      " 18  POLICYRISKCOMMENCEMENTDATE  1321 non-null   object \n",
      " 19  Date of Death               1321 non-null   object \n",
      " 20  INTIMATIONDATE              1321 non-null   object \n",
      " 21  STATUS                      1321 non-null   object \n",
      " 22  SUB_STATUS                  1321 non-null   object \n",
      " 23  Fraud Category              1321 non-null   object \n",
      "dtypes: float64(2), int64(6), object(16)\n",
      "memory usage: 247.8+ KB\n",
      "None\n"
     ]
    },
    {
     "data": {
      "text/html": [
       "<div>\n",
       "<style scoped>\n",
       "    .dataframe tbody tr th:only-of-type {\n",
       "        vertical-align: middle;\n",
       "    }\n",
       "\n",
       "    .dataframe tbody tr th {\n",
       "        vertical-align: top;\n",
       "    }\n",
       "\n",
       "    .dataframe thead th {\n",
       "        text-align: right;\n",
       "    }\n",
       "</style>\n",
       "<table border=\"1\" class=\"dataframe\">\n",
       "  <thead>\n",
       "    <tr style=\"text-align: right;\">\n",
       "      <th></th>\n",
       "      <th>Dummy Policy No</th>\n",
       "      <th>ASSURED_AGE</th>\n",
       "      <th>NOMINEE_RELATION</th>\n",
       "      <th>OCCUPATION</th>\n",
       "      <th>POLICY SUMASSURED</th>\n",
       "      <th>Premium</th>\n",
       "      <th>PREMIUMPAYMENTMODE</th>\n",
       "      <th>Annual Income</th>\n",
       "      <th>HOLDERMARITALSTATUS</th>\n",
       "      <th>INDIV_REQUIREMENTFLAG</th>\n",
       "      <th>...</th>\n",
       "      <th>CORRESPONDENCEPOSTCODE</th>\n",
       "      <th>Product Type</th>\n",
       "      <th>CHANNEL</th>\n",
       "      <th>Bank code</th>\n",
       "      <th>POLICYRISKCOMMENCEMENTDATE</th>\n",
       "      <th>Date of Death</th>\n",
       "      <th>INTIMATIONDATE</th>\n",
       "      <th>STATUS</th>\n",
       "      <th>SUB_STATUS</th>\n",
       "      <th>Fraud Category</th>\n",
       "    </tr>\n",
       "  </thead>\n",
       "  <tbody>\n",
       "    <tr>\n",
       "      <th>0</th>\n",
       "      <td>1</td>\n",
       "      <td>20</td>\n",
       "      <td>Mother</td>\n",
       "      <td>Service</td>\n",
       "      <td>1200000</td>\n",
       "      <td>120000.00</td>\n",
       "      <td>Quarterly</td>\n",
       "      <td>420000</td>\n",
       "      <td>Single</td>\n",
       "      <td>Non Medical</td>\n",
       "      <td>...</td>\n",
       "      <td>816115</td>\n",
       "      <td>ULIP</td>\n",
       "      <td>Retail Agency</td>\n",
       "      <td>NaN</td>\n",
       "      <td>2023-08-30 00:00:00</td>\n",
       "      <td>2023-10-26 00:00:00</td>\n",
       "      <td>2023-12-12 11:26:48</td>\n",
       "      <td>Claim</td>\n",
       "      <td>Death Claim Repudiated</td>\n",
       "      <td>Misrepresentation</td>\n",
       "    </tr>\n",
       "    <tr>\n",
       "      <th>1</th>\n",
       "      <td>2</td>\n",
       "      <td>33</td>\n",
       "      <td>Husband</td>\n",
       "      <td>Service</td>\n",
       "      <td>350000</td>\n",
       "      <td>5000.00</td>\n",
       "      <td>Yearly</td>\n",
       "      <td>180000</td>\n",
       "      <td>Married</td>\n",
       "      <td>Non Medical</td>\n",
       "      <td>...</td>\n",
       "      <td>464001</td>\n",
       "      <td>Traditional</td>\n",
       "      <td>Retail Agency</td>\n",
       "      <td>NaN</td>\n",
       "      <td>2022-03-02 00:00:00</td>\n",
       "      <td>2022-03-31 00:00:00</td>\n",
       "      <td>2023-02-10 11:25:44</td>\n",
       "      <td>Claim</td>\n",
       "      <td>Death Claim Repudiated</td>\n",
       "      <td>Misrepresentation</td>\n",
       "    </tr>\n",
       "    <tr>\n",
       "      <th>2</th>\n",
       "      <td>3</td>\n",
       "      <td>34</td>\n",
       "      <td>Wife</td>\n",
       "      <td>Self-Employed</td>\n",
       "      <td>350000</td>\n",
       "      <td>5000.00</td>\n",
       "      <td>Yearly</td>\n",
       "      <td>249000</td>\n",
       "      <td>Married</td>\n",
       "      <td>Non Medical</td>\n",
       "      <td>...</td>\n",
       "      <td>731238</td>\n",
       "      <td>Traditional</td>\n",
       "      <td>Retail Agency</td>\n",
       "      <td>NaN</td>\n",
       "      <td>2022-07-08 00:00:00</td>\n",
       "      <td>2022-11-11 00:00:00</td>\n",
       "      <td>2023-06-26 10:56:58</td>\n",
       "      <td>Claim</td>\n",
       "      <td>Death Claim Repudiated</td>\n",
       "      <td>Misrepresentation</td>\n",
       "    </tr>\n",
       "    <tr>\n",
       "      <th>3</th>\n",
       "      <td>4</td>\n",
       "      <td>34</td>\n",
       "      <td>Wife</td>\n",
       "      <td>Service</td>\n",
       "      <td>325000</td>\n",
       "      <td>5000.00</td>\n",
       "      <td>Yearly</td>\n",
       "      <td>360000</td>\n",
       "      <td>Married</td>\n",
       "      <td>Non Medical</td>\n",
       "      <td>...</td>\n",
       "      <td>281504</td>\n",
       "      <td>Traditional</td>\n",
       "      <td>Retail Agency</td>\n",
       "      <td>NaN</td>\n",
       "      <td>2022-12-27 00:00:00</td>\n",
       "      <td>2023-04-08 00:00:00</td>\n",
       "      <td>2023-08-14 11:33:47</td>\n",
       "      <td>Claim</td>\n",
       "      <td>Death Claim Repudiated</td>\n",
       "      <td>Misrepresentation</td>\n",
       "    </tr>\n",
       "    <tr>\n",
       "      <th>4</th>\n",
       "      <td>5</td>\n",
       "      <td>54</td>\n",
       "      <td>Husband</td>\n",
       "      <td>Housewife</td>\n",
       "      <td>100000</td>\n",
       "      <td>5000.00</td>\n",
       "      <td>Yearly</td>\n",
       "      <td>600000</td>\n",
       "      <td>Married</td>\n",
       "      <td>Non Medical</td>\n",
       "      <td>...</td>\n",
       "      <td>606001</td>\n",
       "      <td>Traditional</td>\n",
       "      <td>Retail Agency</td>\n",
       "      <td>NaN</td>\n",
       "      <td>2023-03-24 00:00:00</td>\n",
       "      <td>2023-04-11 00:00:00</td>\n",
       "      <td>2023-12-06 12:40:25</td>\n",
       "      <td>Claim</td>\n",
       "      <td>Death Claim Repudiated</td>\n",
       "      <td>Misrepresentation</td>\n",
       "    </tr>\n",
       "    <tr>\n",
       "      <th>...</th>\n",
       "      <td>...</td>\n",
       "      <td>...</td>\n",
       "      <td>...</td>\n",
       "      <td>...</td>\n",
       "      <td>...</td>\n",
       "      <td>...</td>\n",
       "      <td>...</td>\n",
       "      <td>...</td>\n",
       "      <td>...</td>\n",
       "      <td>...</td>\n",
       "      <td>...</td>\n",
       "      <td>...</td>\n",
       "      <td>...</td>\n",
       "      <td>...</td>\n",
       "      <td>...</td>\n",
       "      <td>...</td>\n",
       "      <td>...</td>\n",
       "      <td>...</td>\n",
       "      <td>...</td>\n",
       "      <td>...</td>\n",
       "      <td>...</td>\n",
       "    </tr>\n",
       "    <tr>\n",
       "      <th>1316</th>\n",
       "      <td>1317</td>\n",
       "      <td>42</td>\n",
       "      <td>Spouse</td>\n",
       "      <td>Self-Employed</td>\n",
       "      <td>1750000</td>\n",
       "      <td>250000.00</td>\n",
       "      <td>Yearly</td>\n",
       "      <td>681600</td>\n",
       "      <td>Married</td>\n",
       "      <td>Non Medical</td>\n",
       "      <td>...</td>\n",
       "      <td>231216</td>\n",
       "      <td>ULIP</td>\n",
       "      <td>Bancassurance</td>\n",
       "      <td>1.0</td>\n",
       "      <td>-</td>\n",
       "      <td>-</td>\n",
       "      <td>-</td>\n",
       "      <td>Cancellation</td>\n",
       "      <td>Other Reason</td>\n",
       "      <td>Document Tampering</td>\n",
       "    </tr>\n",
       "    <tr>\n",
       "      <th>1317</th>\n",
       "      <td>1318</td>\n",
       "      <td>20</td>\n",
       "      <td>Son</td>\n",
       "      <td>Business</td>\n",
       "      <td>300000</td>\n",
       "      <td>15000.00</td>\n",
       "      <td>Yearly</td>\n",
       "      <td>200000</td>\n",
       "      <td>Single</td>\n",
       "      <td>Non Medical</td>\n",
       "      <td>...</td>\n",
       "      <td>473001</td>\n",
       "      <td>Variable</td>\n",
       "      <td>Bancassurance</td>\n",
       "      <td>7.0</td>\n",
       "      <td>2013-03-20 00:00:00</td>\n",
       "      <td>-</td>\n",
       "      <td>-</td>\n",
       "      <td>Maturity</td>\n",
       "      <td>Disinvested Unpaid</td>\n",
       "      <td>Misselling</td>\n",
       "    </tr>\n",
       "    <tr>\n",
       "      <th>1318</th>\n",
       "      <td>1319</td>\n",
       "      <td>54</td>\n",
       "      <td>Husband</td>\n",
       "      <td>Service</td>\n",
       "      <td>300000</td>\n",
       "      <td>15000.00</td>\n",
       "      <td>Yearly</td>\n",
       "      <td>1000000</td>\n",
       "      <td>Married</td>\n",
       "      <td>Non Medical</td>\n",
       "      <td>...</td>\n",
       "      <td>473001</td>\n",
       "      <td>Variable</td>\n",
       "      <td>Bancassurance</td>\n",
       "      <td>7.0</td>\n",
       "      <td>2013-03-20 00:00:00</td>\n",
       "      <td>-</td>\n",
       "      <td>-</td>\n",
       "      <td>Maturity</td>\n",
       "      <td>Disinvested Unpaid</td>\n",
       "      <td>Misselling</td>\n",
       "    </tr>\n",
       "    <tr>\n",
       "      <th>1319</th>\n",
       "      <td>1320</td>\n",
       "      <td>36</td>\n",
       "      <td>Daughter</td>\n",
       "      <td>Housewife</td>\n",
       "      <td>0</td>\n",
       "      <td>999999.99</td>\n",
       "      <td>Single</td>\n",
       "      <td>1200000</td>\n",
       "      <td>widowed</td>\n",
       "      <td>Non Medical</td>\n",
       "      <td>...</td>\n",
       "      <td>121003</td>\n",
       "      <td>Pension</td>\n",
       "      <td>Bancassurance</td>\n",
       "      <td>1.0</td>\n",
       "      <td>2019-09-19 00:00:00</td>\n",
       "      <td>-</td>\n",
       "      <td>-</td>\n",
       "      <td>Inforce</td>\n",
       "      <td>-</td>\n",
       "      <td>Signature Forgery</td>\n",
       "    </tr>\n",
       "    <tr>\n",
       "      <th>1320</th>\n",
       "      <td>1321</td>\n",
       "      <td>36</td>\n",
       "      <td>Son</td>\n",
       "      <td>Housewife</td>\n",
       "      <td>0</td>\n",
       "      <td>999999.99</td>\n",
       "      <td>Single</td>\n",
       "      <td>1200000</td>\n",
       "      <td>widowed</td>\n",
       "      <td>Non Medical</td>\n",
       "      <td>...</td>\n",
       "      <td>121003</td>\n",
       "      <td>Pension</td>\n",
       "      <td>Bancassurance</td>\n",
       "      <td>1.0</td>\n",
       "      <td>2020-01-06 00:00:00</td>\n",
       "      <td>-</td>\n",
       "      <td>-</td>\n",
       "      <td>Inforce</td>\n",
       "      <td>-</td>\n",
       "      <td>Signature Forgery</td>\n",
       "    </tr>\n",
       "  </tbody>\n",
       "</table>\n",
       "<p>1321 rows × 24 columns</p>\n",
       "</div>"
      ],
      "text/plain": [
       "      Dummy Policy No  ASSURED_AGE NOMINEE_RELATION     OCCUPATION  \\\n",
       "0                   1           20           Mother        Service   \n",
       "1                   2           33          Husband        Service   \n",
       "2                   3           34             Wife  Self-Employed   \n",
       "3                   4           34             Wife        Service   \n",
       "4                   5           54          Husband      Housewife   \n",
       "...               ...          ...              ...            ...   \n",
       "1316             1317           42           Spouse  Self-Employed   \n",
       "1317             1318           20              Son       Business   \n",
       "1318             1319           54          Husband        Service   \n",
       "1319             1320           36         Daughter      Housewife   \n",
       "1320             1321           36              Son      Housewife   \n",
       "\n",
       "      POLICY SUMASSURED    Premium PREMIUMPAYMENTMODE  Annual Income  \\\n",
       "0               1200000  120000.00          Quarterly         420000   \n",
       "1                350000    5000.00             Yearly         180000   \n",
       "2                350000    5000.00             Yearly         249000   \n",
       "3                325000    5000.00             Yearly         360000   \n",
       "4                100000    5000.00             Yearly         600000   \n",
       "...                 ...        ...                ...            ...   \n",
       "1316            1750000  250000.00             Yearly         681600   \n",
       "1317             300000   15000.00             Yearly         200000   \n",
       "1318             300000   15000.00             Yearly        1000000   \n",
       "1319                  0  999999.99             Single        1200000   \n",
       "1320                  0  999999.99             Single        1200000   \n",
       "\n",
       "     HOLDERMARITALSTATUS INDIV_REQUIREMENTFLAG  ...  CORRESPONDENCEPOSTCODE  \\\n",
       "0                 Single           Non Medical  ...                  816115   \n",
       "1                Married           Non Medical  ...                  464001   \n",
       "2                Married           Non Medical  ...                  731238   \n",
       "3                Married           Non Medical  ...                  281504   \n",
       "4                Married           Non Medical  ...                  606001   \n",
       "...                  ...                   ...  ...                     ...   \n",
       "1316             Married           Non Medical  ...                  231216   \n",
       "1317              Single           Non Medical  ...                  473001   \n",
       "1318             Married           Non Medical  ...                  473001   \n",
       "1319             widowed           Non Medical  ...                  121003   \n",
       "1320             widowed           Non Medical  ...                  121003   \n",
       "\n",
       "      Product Type        CHANNEL Bank code POLICYRISKCOMMENCEMENTDATE  \\\n",
       "0             ULIP  Retail Agency       NaN        2023-08-30 00:00:00   \n",
       "1      Traditional  Retail Agency       NaN        2022-03-02 00:00:00   \n",
       "2      Traditional  Retail Agency       NaN        2022-07-08 00:00:00   \n",
       "3      Traditional  Retail Agency       NaN        2022-12-27 00:00:00   \n",
       "4      Traditional  Retail Agency       NaN        2023-03-24 00:00:00   \n",
       "...            ...            ...       ...                        ...   \n",
       "1316          ULIP  Bancassurance       1.0                          -   \n",
       "1317      Variable  Bancassurance       7.0        2013-03-20 00:00:00   \n",
       "1318      Variable  Bancassurance       7.0        2013-03-20 00:00:00   \n",
       "1319       Pension  Bancassurance       1.0        2019-09-19 00:00:00   \n",
       "1320       Pension  Bancassurance       1.0        2020-01-06 00:00:00   \n",
       "\n",
       "            Date of Death       INTIMATIONDATE        STATUS  \\\n",
       "0     2023-10-26 00:00:00  2023-12-12 11:26:48         Claim   \n",
       "1     2022-03-31 00:00:00  2023-02-10 11:25:44         Claim   \n",
       "2     2022-11-11 00:00:00  2023-06-26 10:56:58         Claim   \n",
       "3     2023-04-08 00:00:00  2023-08-14 11:33:47         Claim   \n",
       "4     2023-04-11 00:00:00  2023-12-06 12:40:25         Claim   \n",
       "...                   ...                  ...           ...   \n",
       "1316                    -                    -  Cancellation   \n",
       "1317                    -                    -      Maturity   \n",
       "1318                    -                    -      Maturity   \n",
       "1319                    -                    -       Inforce   \n",
       "1320                    -                    -       Inforce   \n",
       "\n",
       "                  SUB_STATUS      Fraud Category  \n",
       "0     Death Claim Repudiated   Misrepresentation  \n",
       "1     Death Claim Repudiated   Misrepresentation  \n",
       "2     Death Claim Repudiated   Misrepresentation  \n",
       "3     Death Claim Repudiated   Misrepresentation  \n",
       "4     Death Claim Repudiated   Misrepresentation  \n",
       "...                      ...                 ...  \n",
       "1316            Other Reason  Document Tampering  \n",
       "1317      Disinvested Unpaid         Misselling   \n",
       "1318      Disinvested Unpaid         Misselling   \n",
       "1319                       -   Signature Forgery  \n",
       "1320                       -   Signature Forgery  \n",
       "\n",
       "[1321 rows x 24 columns]"
      ]
     },
     "execution_count": 3,
     "metadata": {},
     "output_type": "execute_result"
    }
   ],
   "source": [
    "df = pd.read_excel(\"data.xlsx\")\n",
    "print(df.info())\n",
    "df"
   ]
  },
  {
   "cell_type": "code",
   "execution_count": 20,
   "id": "7ec51a77",
   "metadata": {},
   "outputs": [
    {
     "name": "stderr",
     "output_type": "stream",
     "text": [
      "C:\\Users\\ASHWIN\\AppData\\Local\\Temp\\ipykernel_6588\\1314186768.py:2: FutureWarning: \n",
      "\n",
      "Passing `palette` without assigning `hue` is deprecated and will be removed in v0.14.0. Assign the `x` variable to `hue` and set `legend=False` for the same effect.\n",
      "\n",
      "  sns.countplot(x='STATUS', data=df, palette='Set2', orient=\"y\")\n"
     ]
    },
    {
     "data": {
      "image/png": "[encoded data removed]",
      "text/plain": [
       "<Figure size 1000x1000 with 1 Axes>"
      ]
     },
     "metadata": {},
     "output_type": "display_data"
    }
   ],
   "source": [
    "plt.figure(figsize=(10, 10))\n",
    "sns.countplot(x='STATUS', data=df, palette='Set2', orient=\"y\")\n",
    "plt.show()"
   ]
  },
  {
   "cell_type": "code",
   "execution_count": 23,
   "id": "7829bff9",
   "metadata": {},
   "outputs": [
    {
     "ename": "DateParseError",
     "evalue": "Unable to parse datetime string: -, at position 5",
     "output_type": "error",
     "traceback": [
      "\u001b[1;31m---------------------------------------------------------------------------\u001b[0m",
      "\u001b[1;31mDateParseError\u001b[0m                            Traceback (most recent call last)",
      "Cell \u001b[1;32mIn[23], line 1\u001b[0m\n\u001b[1;32m----> 1\u001b[0m df[\u001b[38;5;124m'\u001b[39m\u001b[38;5;124mINTIMATIONDATE\u001b[39m\u001b[38;5;124m'\u001b[39m] \u001b[38;5;241m=\u001b[39m \u001b[43mpd\u001b[49m\u001b[38;5;241;43m.\u001b[39;49m\u001b[43mto_datetime\u001b[49m\u001b[43m(\u001b[49m\u001b[43mdf\u001b[49m\u001b[43m[\u001b[49m\u001b[38;5;124;43m'\u001b[39;49m\u001b[38;5;124;43mINTIMATIONDATE\u001b[39;49m\u001b[38;5;124;43m'\u001b[39;49m\u001b[43m]\u001b[49m\u001b[43m)\u001b[49m\n\u001b[0;32m      2\u001b[0m df\u001b[38;5;241m.\u001b[39mset_index(\u001b[38;5;124m'\u001b[39m\u001b[38;5;124mINTIMATIONDATE\u001b[39m\u001b[38;5;124m'\u001b[39m)\u001b[38;5;241m.\u001b[39mresample(\u001b[38;5;124m'\u001b[39m\u001b[38;5;124mM\u001b[39m\u001b[38;5;124m'\u001b[39m)\u001b[38;5;241m.\u001b[39msize()\u001b[38;5;241m.\u001b[39mplot(kind\u001b[38;5;241m=\u001b[39m\u001b[38;5;124m'\u001b[39m\u001b[38;5;124mbar\u001b[39m\u001b[38;5;124m'\u001b[39m, color\u001b[38;5;241m=\u001b[39m\u001b[38;5;124m'\u001b[39m\u001b[38;5;124mskyblue\u001b[39m\u001b[38;5;124m'\u001b[39m)\n",
      "File \u001b[1;32mc:\\Users\\ASHWIN\\AppData\\Local\\Programs\\Python\\Python311\\Lib\\site-packages\\pandas\\core\\tools\\datetimes.py:1063\u001b[0m, in \u001b[0;36mto_datetime\u001b[1;34m(arg, errors, dayfirst, yearfirst, utc, format, exact, unit, infer_datetime_format, origin, cache)\u001b[0m\n\u001b[0;32m   1061\u001b[0m             result \u001b[38;5;241m=\u001b[39m arg\u001b[38;5;241m.\u001b[39mtz_localize(\u001b[38;5;124m\"\u001b[39m\u001b[38;5;124mutc\u001b[39m\u001b[38;5;124m\"\u001b[39m)\n\u001b[0;32m   1062\u001b[0m \u001b[38;5;28;01melif\u001b[39;00m \u001b[38;5;28misinstance\u001b[39m(arg, ABCSeries):\n\u001b[1;32m-> 1063\u001b[0m     cache_array \u001b[38;5;241m=\u001b[39m \u001b[43m_maybe_cache\u001b[49m\u001b[43m(\u001b[49m\u001b[43marg\u001b[49m\u001b[43m,\u001b[49m\u001b[43m \u001b[49m\u001b[38;5;28;43mformat\u001b[39;49m\u001b[43m,\u001b[49m\u001b[43m \u001b[49m\u001b[43mcache\u001b[49m\u001b[43m,\u001b[49m\u001b[43m \u001b[49m\u001b[43mconvert_listlike\u001b[49m\u001b[43m)\u001b[49m\n\u001b[0;32m   1064\u001b[0m     \u001b[38;5;28;01mif\u001b[39;00m \u001b[38;5;129;01mnot\u001b[39;00m cache_array\u001b[38;5;241m.\u001b[39mempty:\n\u001b[0;32m   1065\u001b[0m         result \u001b[38;5;241m=\u001b[39m arg\u001b[38;5;241m.\u001b[39mmap(cache_array)\n",
      "File \u001b[1;32mc:\\Users\\ASHWIN\\AppData\\Local\\Programs\\Python\\Python311\\Lib\\site-packages\\pandas\\core\\tools\\datetimes.py:247\u001b[0m, in \u001b[0;36m_maybe_cache\u001b[1;34m(arg, format, cache, convert_listlike)\u001b[0m\n\u001b[0;32m    245\u001b[0m unique_dates \u001b[38;5;241m=\u001b[39m unique(arg)\n\u001b[0;32m    246\u001b[0m \u001b[38;5;28;01mif\u001b[39;00m \u001b[38;5;28mlen\u001b[39m(unique_dates) \u001b[38;5;241m<\u001b[39m \u001b[38;5;28mlen\u001b[39m(arg):\n\u001b[1;32m--> 247\u001b[0m     cache_dates \u001b[38;5;241m=\u001b[39m \u001b[43mconvert_listlike\u001b[49m\u001b[43m(\u001b[49m\u001b[43munique_dates\u001b[49m\u001b[43m,\u001b[49m\u001b[43m \u001b[49m\u001b[38;5;28;43mformat\u001b[39;49m\u001b[43m)\u001b[49m\n\u001b[0;32m    248\u001b[0m     \u001b[38;5;66;03m# GH#45319\u001b[39;00m\n\u001b[0;32m    249\u001b[0m     \u001b[38;5;28;01mtry\u001b[39;00m:\n",
      "File \u001b[1;32mc:\\Users\\ASHWIN\\AppData\\Local\\Programs\\Python\\Python311\\Lib\\site-packages\\pandas\\core\\tools\\datetimes.py:435\u001b[0m, in \u001b[0;36m_convert_listlike_datetimes\u001b[1;34m(arg, format, name, utc, unit, errors, dayfirst, yearfirst, exact)\u001b[0m\n\u001b[0;32m    432\u001b[0m \u001b[38;5;28;01mif\u001b[39;00m \u001b[38;5;28mformat\u001b[39m \u001b[38;5;129;01mis\u001b[39;00m \u001b[38;5;129;01mnot\u001b[39;00m \u001b[38;5;28;01mNone\u001b[39;00m \u001b[38;5;129;01mand\u001b[39;00m \u001b[38;5;28mformat\u001b[39m \u001b[38;5;241m!=\u001b[39m \u001b[38;5;124m\"\u001b[39m\u001b[38;5;124mmixed\u001b[39m\u001b[38;5;124m\"\u001b[39m:\n\u001b[0;32m    433\u001b[0m     \u001b[38;5;28;01mreturn\u001b[39;00m _array_strptime_with_fallback(arg, name, utc, \u001b[38;5;28mformat\u001b[39m, exact, errors)\n\u001b[1;32m--> 435\u001b[0m result, tz_parsed \u001b[38;5;241m=\u001b[39m \u001b[43mobjects_to_datetime64\u001b[49m\u001b[43m(\u001b[49m\n\u001b[0;32m    436\u001b[0m \u001b[43m    \u001b[49m\u001b[43marg\u001b[49m\u001b[43m,\u001b[49m\n\u001b[0;32m    437\u001b[0m \u001b[43m    \u001b[49m\u001b[43mdayfirst\u001b[49m\u001b[38;5;241;43m=\u001b[39;49m\u001b[43mdayfirst\u001b[49m\u001b[43m,\u001b[49m\n\u001b[0;32m    438\u001b[0m \u001b[43m    \u001b[49m\u001b[43myearfirst\u001b[49m\u001b[38;5;241;43m=\u001b[39;49m\u001b[43myearfirst\u001b[49m\u001b[43m,\u001b[49m\n\u001b[0;32m    439\u001b[0m \u001b[43m    \u001b[49m\u001b[43mutc\u001b[49m\u001b[38;5;241;43m=\u001b[39;49m\u001b[43mutc\u001b[49m\u001b[43m,\u001b[49m\n\u001b[0;32m    440\u001b[0m \u001b[43m    \u001b[49m\u001b[43merrors\u001b[49m\u001b[38;5;241;43m=\u001b[39;49m\u001b[43merrors\u001b[49m\u001b[43m,\u001b[49m\n\u001b[0;32m    441\u001b[0m \u001b[43m    \u001b[49m\u001b[43mallow_object\u001b[49m\u001b[38;5;241;43m=\u001b[39;49m\u001b[38;5;28;43;01mTrue\u001b[39;49;00m\u001b[43m,\u001b[49m\n\u001b[0;32m    442\u001b[0m \u001b[43m\u001b[49m\u001b[43m)\u001b[49m\n\u001b[0;32m    444\u001b[0m \u001b[38;5;28;01mif\u001b[39;00m tz_parsed \u001b[38;5;129;01mis\u001b[39;00m \u001b[38;5;129;01mnot\u001b[39;00m \u001b[38;5;28;01mNone\u001b[39;00m:\n\u001b[0;32m    445\u001b[0m     \u001b[38;5;66;03m# We can take a shortcut since the datetime64 numpy array\u001b[39;00m\n\u001b[0;32m    446\u001b[0m     \u001b[38;5;66;03m# is in UTC\u001b[39;00m\n\u001b[0;32m    447\u001b[0m     out_unit \u001b[38;5;241m=\u001b[39m np\u001b[38;5;241m.\u001b[39mdatetime_data(result\u001b[38;5;241m.\u001b[39mdtype)[\u001b[38;5;241m0\u001b[39m]\n",
      "File \u001b[1;32mc:\\Users\\ASHWIN\\AppData\\Local\\Programs\\Python\\Python311\\Lib\\site-packages\\pandas\\core\\arrays\\datetimes.py:2398\u001b[0m, in \u001b[0;36mobjects_to_datetime64\u001b[1;34m(data, dayfirst, yearfirst, utc, errors, allow_object, out_unit)\u001b[0m\n\u001b[0;32m   2395\u001b[0m \u001b[38;5;66;03m# if str-dtype, convert\u001b[39;00m\n\u001b[0;32m   2396\u001b[0m data \u001b[38;5;241m=\u001b[39m np\u001b[38;5;241m.\u001b[39masarray(data, dtype\u001b[38;5;241m=\u001b[39mnp\u001b[38;5;241m.\u001b[39mobject_)\n\u001b[1;32m-> 2398\u001b[0m result, tz_parsed \u001b[38;5;241m=\u001b[39m \u001b[43mtslib\u001b[49m\u001b[38;5;241;43m.\u001b[39;49m\u001b[43marray_to_datetime\u001b[49m\u001b[43m(\u001b[49m\n\u001b[0;32m   2399\u001b[0m \u001b[43m    \u001b[49m\u001b[43mdata\u001b[49m\u001b[43m,\u001b[49m\n\u001b[0;32m   2400\u001b[0m \u001b[43m    \u001b[49m\u001b[43merrors\u001b[49m\u001b[38;5;241;43m=\u001b[39;49m\u001b[43merrors\u001b[49m\u001b[43m,\u001b[49m\n\u001b[0;32m   2401\u001b[0m \u001b[43m    \u001b[49m\u001b[43mutc\u001b[49m\u001b[38;5;241;43m=\u001b[39;49m\u001b[43mutc\u001b[49m\u001b[43m,\u001b[49m\n\u001b[0;32m   2402\u001b[0m \u001b[43m    \u001b[49m\u001b[43mdayfirst\u001b[49m\u001b[38;5;241;43m=\u001b[39;49m\u001b[43mdayfirst\u001b[49m\u001b[43m,\u001b[49m\n\u001b[0;32m   2403\u001b[0m \u001b[43m    \u001b[49m\u001b[43myearfirst\u001b[49m\u001b[38;5;241;43m=\u001b[39;49m\u001b[43myearfirst\u001b[49m\u001b[43m,\u001b[49m\n\u001b[0;32m   2404\u001b[0m \u001b[43m    \u001b[49m\u001b[43mcreso\u001b[49m\u001b[38;5;241;43m=\u001b[39;49m\u001b[43mabbrev_to_npy_unit\u001b[49m\u001b[43m(\u001b[49m\u001b[43mout_unit\u001b[49m\u001b[43m)\u001b[49m\u001b[43m,\u001b[49m\n\u001b[0;32m   2405\u001b[0m \u001b[43m\u001b[49m\u001b[43m)\u001b[49m\n\u001b[0;32m   2407\u001b[0m \u001b[38;5;28;01mif\u001b[39;00m tz_parsed \u001b[38;5;129;01mis\u001b[39;00m \u001b[38;5;129;01mnot\u001b[39;00m \u001b[38;5;28;01mNone\u001b[39;00m:\n\u001b[0;32m   2408\u001b[0m     \u001b[38;5;66;03m# We can take a shortcut since the datetime64 numpy array\u001b[39;00m\n\u001b[0;32m   2409\u001b[0m     \u001b[38;5;66;03m#  is in UTC\u001b[39;00m\n\u001b[0;32m   2410\u001b[0m     \u001b[38;5;28;01mreturn\u001b[39;00m result, tz_parsed\n",
      "File \u001b[1;32mtslib.pyx:414\u001b[0m, in \u001b[0;36mpandas._libs.tslib.array_to_datetime\u001b[1;34m()\u001b[0m\n",
      "File \u001b[1;32mtslib.pyx:596\u001b[0m, in \u001b[0;36mpandas._libs.tslib.array_to_datetime\u001b[1;34m()\u001b[0m\n",
      "File \u001b[1;32mtslib.pyx:553\u001b[0m, in \u001b[0;36mpandas._libs.tslib.array_to_datetime\u001b[1;34m()\u001b[0m\n",
      "File \u001b[1;32mconversion.pyx:641\u001b[0m, in \u001b[0;36mpandas._libs.tslibs.conversion.convert_str_to_tsobject\u001b[1;34m()\u001b[0m\n",
      "File \u001b[1;32mparsing.pyx:336\u001b[0m, in \u001b[0;36mpandas._libs.tslibs.parsing.parse_datetime_string\u001b[1;34m()\u001b[0m\n",
      "File \u001b[1;32mparsing.pyx:678\u001b[0m, in \u001b[0;36mpandas._libs.tslibs.parsing.dateutil_parse\u001b[1;34m()\u001b[0m\n",
      "\u001b[1;31mDateParseError\u001b[0m: Unable to parse datetime string: -, at position 5"
     ]
    }
   ],
   "source": [
    "df['INTIMATIONDATE'] = pd.to_datetime(df['INTIMATIONDATE'])\n",
    "df.set_index('INTIMATIONDATE').resample('M').size().plot(kind='bar', color='skyblue')"
   ]
  },
  {
   "cell_type": "code",
   "execution_count": 25,
   "id": "8fb5d405",
   "metadata": {},
   "outputs": [
    {
     "data": {
      "application/vnd.plotly.v1+json": {
       "config": {
        "plotlyServerURL": "https://plot.ly"
       },
       "data": [
        {
         "branchvalues": "total",
         "domain": {
          "x": [
           0,
           1
          ],
          "y": [
           0,
           1
          ]
         },
         "hovertemplate": "labels=%{label}<br>Premium=%{value}<br>parent=%{parent}<br>id=%{id}<extra></extra>",
         "ids": [
          "Traditional/Retail Agency/Agent Dual Pan Card",
          "Traditional/Bancassurance/Claims Fraud",
          "Variable/Bancassurance/Claims Fraud",
          "Traditional/Retail Agency/Claims Fraud",
          "Pension/Bancassurance/Document Tampering",
          "Traditional/Bancassurance/Document Tampering",
          "ULIP/Bancassurance/Document Tampering",
          "Variable/Bancassurance/Document Tampering",
          "Traditional/Institutional Alliance/Document Tampering",
          "ULIP/Institutional Alliance/Document Tampering",
          "Pension/Retail Agency/Document Tampering",
          "Traditional/Retail Agency/Document Tampering",
          "ULIP/Retail Agency/Document Tampering",
          "Traditional/Bancassurance/Impersonation",
          "Traditional/Retail Agency/Impersonation",
          "ULIP/Retail Agency/Impersonation",
          "ULIP/Retail Agency/Kickback",
          "ULIP/Retail Agency/Logging in business not sourced by oneself",
          "Traditional/Bancassurance/Misappropriating Funds",
          "ULIP/Bancassurance/Misappropriating Funds",
          "Variable/Bancassurance/Misappropriating Funds",
          "Traditional/Retail Agency/Misappropriating Funds",
          "ULIP/Retail Agency/Misappropriating Funds",
          "ULIP/Retail Agency/Misappropriating funds",
          "Pension/Bancassurance/Misrepresentation",
          "Traditional/Bancassurance/Misrepresentation",
          "ULIP/Bancassurance/Misrepresentation",
          "Traditional/Institutional Alliance/Misrepresentation",
          "ULIP/Institutional Alliance/Misrepresentation",
          "Health/Retail Agency/Misrepresentation",
          "Non Par/Retail Agency/Misrepresentation",
          "Traditional/Retail Agency/Misrepresentation",
          "ULIP/Retail Agency/Misrepresentation",
          "Pension/Bancassurance/Misselling ",
          "Traditional/Bancassurance/Misselling ",
          "ULIP/Bancassurance/Misselling ",
          "Variable/Bancassurance/Misselling ",
          "Traditional/Institutional Alliance/Misselling ",
          "Pension/Retail Agency/Misselling ",
          "Traditional/Retail Agency/Misselling ",
          "ULIP/Retail Agency/Misselling ",
          "Pension/Bancassurance/Signature Forgery",
          "Traditional/Bancassurance/Signature Forgery",
          "ULIP/Bancassurance/Signature Forgery",
          "Traditional/Institutional Alliance/Signature Forgery",
          "Pension/Mail and Others/Signature Forgery",
          "Pension/Retail Agency/Signature Forgery",
          "Traditional/Retail Agency/Signature Forgery",
          "ULIP/Retail Agency/Signature Forgery",
          "Traditional/Institutional Alliance/Unauthorized activity",
          "Pension/Bancassurance",
          "Traditional/Bancassurance",
          "ULIP/Bancassurance",
          "Variable/Bancassurance",
          "Traditional/Institutional Alliance",
          "ULIP/Institutional Alliance",
          "Pension/Mail and Others",
          "Health/Retail Agency",
          "Non Par/Retail Agency",
          "Pension/Retail Agency",
          "Traditional/Retail Agency",
          "ULIP/Retail Agency",
          "Health",
          "Non Par",
          "Pension",
          "Traditional",
          "ULIP",
          "Variable"
         ],
         "labels": [
          "Agent Dual Pan Card",
          "Claims Fraud",
          "Claims Fraud",
          "Claims Fraud",
          "Document Tampering",
          "Document Tampering",
          "Document Tampering",
          "Document Tampering",
          "Document Tampering",
          "Document Tampering",
          "Document Tampering",
          "Document Tampering",
          "Document Tampering",
          "Impersonation",
          "Impersonation",
          "Impersonation",
          "Kickback",
          "Logging in business not sourced by oneself",
          "Misappropriating Funds",
          "Misappropriating Funds",
          "Misappropriating Funds",
          "Misappropriating Funds",
          "Misappropriating Funds",
          "Misappropriating funds",
          "Misrepresentation",
          "Misrepresentation",
          "Misrepresentation",
          "Misrepresentation",
          "Misrepresentation",
          "Misrepresentation",
          "Misrepresentation",
          "Misrepresentation",
          "Misrepresentation",
          "Misselling ",
          "Misselling ",
          "Misselling ",
          "Misselling ",
          "Misselling ",
          "Misselling ",
          "Misselling ",
          "Misselling ",
          "Signature Forgery",
          "Signature Forgery",
          "Signature Forgery",
          "Signature Forgery",
          "Signature Forgery",
          "Signature Forgery",
          "Signature Forgery",
          "Signature Forgery",
          "Unauthorized activity",
          "Bancassurance",
          "Bancassurance",
          "Bancassurance",
          "Bancassurance",
          "Institutional Alliance",
          "Institutional Alliance",
          "Mail and Others",
          "Retail Agency",
          "Retail Agency",
          "Retail Agency",
          "Retail Agency",
          "Retail Agency",
          "Health",
          "Non Par",
          "Pension",
          "Traditional",
          "ULIP",
          "Variable"
         ],
         "name": "",
         "parents": [
          "Traditional/Retail Agency",
          "Traditional/Bancassurance",
          "Variable/Bancassurance",
          "Traditional/Retail Agency",
          "Pension/Bancassurance",
          "Traditional/Bancassurance",
          "ULIP/Bancassurance",
          "Variable/Bancassurance",
          "Traditional/Institutional Alliance",
          "ULIP/Institutional Alliance",
          "Pension/Retail Agency",
          "Traditional/Retail Agency",
          "ULIP/Retail Agency",
          "Traditional/Bancassurance",
          "Traditional/Retail Agency",
          "ULIP/Retail Agency",
          "ULIP/Retail Agency",
          "ULIP/Retail Agency",
          "Traditional/Bancassurance",
          "ULIP/Bancassurance",
          "Variable/Bancassurance",
          "Traditional/Retail Agency",
          "ULIP/Retail Agency",
          "ULIP/Retail Agency",
          "Pension/Bancassurance",
          "Traditional/Bancassurance",
          "ULIP/Bancassurance",
          "Traditional/Institutional Alliance",
          "ULIP/Institutional Alliance",
          "Health/Retail Agency",
          "Non Par/Retail Agency",
          "Traditional/Retail Agency",
          "ULIP/Retail Agency",
          "Pension/Bancassurance",
          "Traditional/Bancassurance",
          "ULIP/Bancassurance",
          "Variable/Bancassurance",
          "Traditional/Institutional Alliance",
          "Pension/Retail Agency",
          "Traditional/Retail Agency",
          "ULIP/Retail Agency",
          "Pension/Bancassurance",
          "Traditional/Bancassurance",
          "ULIP/Bancassurance",
          "Traditional/Institutional Alliance",
          "Pension/Mail and Others",
          "Pension/Retail Agency",
          "Traditional/Retail Agency",
          "ULIP/Retail Agency",
          "Traditional/Institutional Alliance",
          "Pension",
          "Traditional",
          "ULIP",
          "Variable",
          "Traditional",
          "ULIP",
          "Pension",
          "Health",
          "Non Par",
          "Pension",
          "Traditional",
          "ULIP",
          "",
          "",
          "",
          "",
          "",
          ""
         ],
         "type": "sunburst",
         "values": [
          9033.78,
          8005,
          100000,
          175653.24,
          35270043.5,
          12851926.78,
          75760000,
          50000,
          86249.59,
          600000,
          2550000,
          6617182.59,
          15557000,
          44638,
          409141.36,
          500000,
          99900,
          200000,
          153223.68,
          718900,
          50000,
          465125,
          1091000,
          300000,
          10549999.99,
          17550396.95,
          23171600,
          328397.93,
          30000,
          22101.4,
          12935.79,
          11654819.2,
          6048800,
          3000000,
          19700.34,
          4800000,
          30000,
          33409.62,
          400000,
          305279.19999999995,
          125000,
          4898378.98,
          2395389.04,
          9649000,
          341564.64,
          1511650.11,
          50000,
          513769.74,
          160000,
          104500,
          53718422.47,
          33023279.79,
          114099500,
          230000,
          894121.78,
          630000,
          1511650.11,
          22101.4,
          12935.79,
          3000000,
          20150004.11,
          24081700,
          22101.4,
          12935.79,
          58230072.58,
          54067405.68,
          138811200,
          230000
         ]
        }
       ],
       "layout": {
        "legend": {
         "tracegroupgap": 0
        },
        "margin": {
         "t": 60
        },
        "template": {
         "data": {
          "bar": [
           {
            "error_x": {
             "color": "#2a3f5f"
            },
            "error_y": {
             "color": "#2a3f5f"
            },
            "marker": {
             "line": {
              "color": "#E5ECF6",
              "width": 0.5
             },
             "pattern": {
              "fillmode": "overlay",
              "size": 10,
              "solidity": 0.2
             }
            },
            "type": "bar"
           }
          ],
          "barpolar": [
           {
            "marker": {
             "line": {
              "color": "#E5ECF6",
              "width": 0.5
             },
             "pattern": {
              "fillmode": "overlay",
              "size": 10,
              "solidity": 0.2
             }
            },
            "type": "barpolar"
           }
          ],
          "carpet": [
           {
            "aaxis": {
             "endlinecolor": "#2a3f5f",
             "gridcolor": "white",
             "linecolor": "white",
             "minorgridcolor": "white",
             "startlinecolor": "#2a3f5f"
            },
            "baxis": {
             "endlinecolor": "#2a3f5f",
             "gridcolor": "white",
             "linecolor": "white",
             "minorgridcolor": "white",
             "startlinecolor": "#2a3f5f"
            },
            "type": "carpet"
           }
          ],
          "choropleth": [
           {
            "colorbar": {
             "outlinewidth": 0,
             "ticks": ""
            },
            "type": "choropleth"
           }
          ],
          "contour": [
           {
            "colorbar": {
             "outlinewidth": 0,
             "ticks": ""
            },
            "colorscale": [
             [
              0,
              "#0d0887"
             ],
             [
              0.1111111111111111,
              "#46039f"
             ],
             [
              0.2222222222222222,
              "#7201a8"
             ],
             [
              0.3333333333333333,
              "#9c179e"
             ],
             [
              0.4444444444444444,
              "#bd3786"
             ],
             [
              0.5555555555555556,
              "#d8576b"
             ],
             [
              0.6666666666666666,
              "#ed7953"
             ],
             [
              0.7777777777777778,
              "#fb9f3a"
             ],
             [
              0.8888888888888888,
              "#fdca26"
             ],
             [
              1,
              "#f0f921"
             ]
            ],
            "type": "contour"
           }
          ],
          "contourcarpet": [
           {
            "colorbar": {
             "outlinewidth": 0,
             "ticks": ""
            },
            "type": "contourcarpet"
           }
          ],
          "heatmap": [
           {
            "colorbar": {
             "outlinewidth": 0,
             "ticks": ""
            },
            "colorscale": [
             [
              0,
              "#0d0887"
             ],
             [
              0.1111111111111111,
              "#46039f"
             ],
             [
              0.2222222222222222,
              "#7201a8"
             ],
             [
              0.3333333333333333,
              "#9c179e"
             ],
             [
              0.4444444444444444,
              "#bd3786"
             ],
             [
              0.5555555555555556,
              "#d8576b"
             ],
             [
              0.6666666666666666,
              "#ed7953"
             ],
             [
              0.7777777777777778,
              "#fb9f3a"
             ],
             [
              0.8888888888888888,
              "#fdca26"
             ],
             [
              1,
              "#f0f921"
             ]
            ],
            "type": "heatmap"
           }
          ],
          "heatmapgl": [
           {
            "colorbar": {
             "outlinewidth": 0,
             "ticks": ""
            },
            "colorscale": [
             [
              0,
              "#0d0887"
             ],
             [
              0.1111111111111111,
              "#46039f"
             ],
             [
              0.2222222222222222,
              "#7201a8"
             ],
             [
              0.3333333333333333,
              "#9c179e"
             ],
             [
              0.4444444444444444,
              "#bd3786"
             ],
             [
              0.5555555555555556,
              "#d8576b"
             ],
             [
              0.6666666666666666,
              "#ed7953"
             ],
             [
              0.7777777777777778,
              "#fb9f3a"
             ],
             [
              0.8888888888888888,
              "#fdca26"
             ],
             [
              1,
              "#f0f921"
             ]
            ],
            "type": "heatmapgl"
           }
          ],
          "histogram": [
           {
            "marker": {
             "pattern": {
              "fillmode": "overlay",
              "size": 10,
              "solidity": 0.2
             }
            },
            "type": "histogram"
           }
          ],
          "histogram2d": [
           {
            "colorbar": {
             "outlinewidth": 0,
             "ticks": ""
            },
            "colorscale": [
             [
              0,
              "#0d0887"
             ],
             [
              0.1111111111111111,
              "#46039f"
             ],
             [
              0.2222222222222222,
              "#7201a8"
             ],
             [
              0.3333333333333333,
              "#9c179e"
             ],
             [
              0.4444444444444444,
              "#bd3786"
             ],
             [
              0.5555555555555556,
              "#d8576b"
             ],
             [
              0.6666666666666666,
              "#ed7953"
             ],
             [
              0.7777777777777778,
              "#fb9f3a"
             ],
             [
              0.8888888888888888,
              "#fdca26"
             ],
             [
              1,
              "#f0f921"
             ]
            ],
            "type": "histogram2d"
           }
          ],
          "histogram2dcontour": [
           {
            "colorbar": {
             "outlinewidth": 0,
             "ticks": ""
            },
            "colorscale": [
             [
              0,
              "#0d0887"
             ],
             [
              0.1111111111111111,
              "#46039f"
             ],
             [
              0.2222222222222222,
              "#7201a8"
             ],
             [
              0.3333333333333333,
              "#9c179e"
             ],
             [
              0.4444444444444444,
              "#bd3786"
             ],
             [
              0.5555555555555556,
              "#d8576b"
             ],
             [
              0.6666666666666666,
              "#ed7953"
             ],
             [
              0.7777777777777778,
              "#fb9f3a"
             ],
             [
              0.8888888888888888,
              "#fdca26"
             ],
             [
              1,
              "#f0f921"
             ]
            ],
            "type": "histogram2dcontour"
           }
          ],
          "mesh3d": [
           {
            "colorbar": {
             "outlinewidth": 0,
             "ticks": ""
            },
            "type": "mesh3d"
           }
          ],
          "parcoords": [
           {
            "line": {
             "colorbar": {
              "outlinewidth": 0,
              "ticks": ""
             }
            },
            "type": "parcoords"
           }
          ],
          "pie": [
           {
            "automargin": true,
            "type": "pie"
           }
          ],
          "scatter": [
           {
            "fillpattern": {
             "fillmode": "overlay",
             "size": 10,
             "solidity": 0.2
            },
            "type": "scatter"
           }
          ],
          "scatter3d": [
           {
            "line": {
             "colorbar": {
              "outlinewidth": 0,
              "ticks": ""
             }
            },
            "marker": {
             "colorbar": {
              "outlinewidth": 0,
              "ticks": ""
             }
            },
            "type": "scatter3d"
           }
          ],
          "scattercarpet": [
           {
            "marker": {
             "colorbar": {
              "outlinewidth": 0,
              "ticks": ""
             }
            },
            "type": "scattercarpet"
           }
          ],
          "scattergeo": [
           {
            "marker": {
             "colorbar": {
              "outlinewidth": 0,
              "ticks": ""
             }
            },
            "type": "scattergeo"
           }
          ],
          "scattergl": [
           {
            "marker": {
             "colorbar": {
              "outlinewidth": 0,
              "ticks": ""
             }
            },
            "type": "scattergl"
           }
          ],
          "scattermapbox": [
           {
            "marker": {
             "colorbar": {
              "outlinewidth": 0,
              "ticks": ""
             }
            },
            "type": "scattermapbox"
           }
          ],
          "scatterpolar": [
           {
            "marker": {
             "colorbar": {
              "outlinewidth": 0,
              "ticks": ""
             }
            },
            "type": "scatterpolar"
           }
          ],
          "scatterpolargl": [
           {
            "marker": {
             "colorbar": {
              "outlinewidth": 0,
              "ticks": ""
             }
            },
            "type": "scatterpolargl"
           }
          ],
          "scatterternary": [
           {
            "marker": {
             "colorbar": {
              "outlinewidth": 0,
              "ticks": ""
             }
            },
            "type": "scatterternary"
           }
          ],
          "surface": [
           {
            "colorbar": {
             "outlinewidth": 0,
             "ticks": ""
            },
            "colorscale": [
             [
              0,
              "#0d0887"
             ],
             [
              0.1111111111111111,
              "#46039f"
             ],
             [
              0.2222222222222222,
              "#7201a8"
             ],
             [
              0.3333333333333333,
              "#9c179e"
             ],
             [
              0.4444444444444444,
              "#bd3786"
             ],
             [
              0.5555555555555556,
              "#d8576b"
             ],
             [
              0.6666666666666666,
              "#ed7953"
             ],
             [
              0.7777777777777778,
              "#fb9f3a"
             ],
             [
              0.8888888888888888,
              "#fdca26"
             ],
             [
              1,
              "#f0f921"
             ]
            ],
            "type": "surface"
           }
          ],
          "table": [
           {
            "cells": {
             "fill": {
              "color": "#EBF0F8"
             },
             "line": {
              "color": "white"
             }
            },
            "header": {
             "fill": {
              "color": "#C8D4E3"
             },
             "line": {
              "color": "white"
             }
            },
            "type": "table"
           }
          ]
         },
         "layout": {
          "annotationdefaults": {
           "arrowcolor": "#2a3f5f",
           "arrowhead": 0,
           "arrowwidth": 1
          },
          "autotypenumbers": "strict",
          "coloraxis": {
           "colorbar": {
            "outlinewidth": 0,
            "ticks": ""
           }
          },
          "colorscale": {
           "diverging": [
            [
             0,
             "#8e0152"
            ],
            [
             0.1,
             "#c51b7d"
            ],
            [
             0.2,
             "#de77ae"
            ],
            [
             0.3,
             "#f1b6da"
            ],
            [
             0.4,
             "#fde0ef"
            ],
            [
             0.5,
             "#f7f7f7"
            ],
            [
             0.6,
             "#e6f5d0"
            ],
            [
             0.7,
             "#b8e186"
            ],
            [
             0.8,
             "#7fbc41"
            ],
            [
             0.9,
             "#4d9221"
            ],
            [
             1,
             "#276419"
            ]
           ],
           "sequential": [
            [
             0,
             "#0d0887"
            ],
            [
             0.1111111111111111,
             "#46039f"
            ],
            [
             0.2222222222222222,
             "#7201a8"
            ],
            [
             0.3333333333333333,
             "#9c179e"
            ],
            [
             0.4444444444444444,
             "#bd3786"
            ],
            [
             0.5555555555555556,
             "#d8576b"
            ],
            [
             0.6666666666666666,
             "#ed7953"
            ],
            [
             0.7777777777777778,
             "#fb9f3a"
            ],
            [
             0.8888888888888888,
             "#fdca26"
            ],
            [
             1,
             "#f0f921"
            ]
           ],
           "sequentialminus": [
            [
             0,
             "#0d0887"
            ],
            [
             0.1111111111111111,
             "#46039f"
            ],
            [
             0.2222222222222222,
             "#7201a8"
            ],
            [
             0.3333333333333333,
             "#9c179e"
            ],
            [
             0.4444444444444444,
             "#bd3786"
            ],
            [
             0.5555555555555556,
             "#d8576b"
            ],
            [
             0.6666666666666666,
             "#ed7953"
            ],
            [
             0.7777777777777778,
             "#fb9f3a"
            ],
            [
             0.8888888888888888,
             "#fdca26"
            ],
            [
             1,
             "#f0f921"
            ]
           ]
          },
          "colorway": [
           "#636efa",
           "#EF553B",
           "#00cc96",
           "#ab63fa",
           "#FFA15A",
           "#19d3f3",
           "#FF6692",
           "#B6E880",
           "#FF97FF",
           "#FECB52"
          ],
          "font": {
           "color": "#2a3f5f"
          },
          "geo": {
           "bgcolor": "white",
           "lakecolor": "white",
           "landcolor": "#E5ECF6",
           "showlakes": true,
           "showland": true,
           "subunitcolor": "white"
          },
          "hoverlabel": {
           "align": "left"
          },
          "hovermode": "closest",
          "mapbox": {
           "style": "light"
          },
          "paper_bgcolor": "white",
          "plot_bgcolor": "#E5ECF6",
          "polar": {
           "angularaxis": {
            "gridcolor": "white",
            "linecolor": "white",
            "ticks": ""
           },
           "bgcolor": "#E5ECF6",
           "radialaxis": {
            "gridcolor": "white",
            "linecolor": "white",
            "ticks": ""
           }
          },
          "scene": {
           "xaxis": {
            "backgroundcolor": "#E5ECF6",
            "gridcolor": "white",
            "gridwidth": 2,
            "linecolor": "white",
            "showbackground": true,
            "ticks": "",
            "zerolinecolor": "white"
           },
           "yaxis": {
            "backgroundcolor": "#E5ECF6",
            "gridcolor": "white",
            "gridwidth": 2,
            "linecolor": "white",
            "showbackground": true,
            "ticks": "",
            "zerolinecolor": "white"
           },
           "zaxis": {
            "backgroundcolor": "#E5ECF6",
            "gridcolor": "white",
            "gridwidth": 2,
            "linecolor": "white",
            "showbackground": true,
            "ticks": "",
            "zerolinecolor": "white"
           }
          },
          "shapedefaults": {
           "line": {
            "color": "#2a3f5f"
           }
          },
          "ternary": {
           "aaxis": {
            "gridcolor": "white",
            "linecolor": "white",
            "ticks": ""
           },
           "baxis": {
            "gridcolor": "white",
            "linecolor": "white",
            "ticks": ""
           },
           "bgcolor": "#E5ECF6",
           "caxis": {
            "gridcolor": "white",
            "linecolor": "white",
            "ticks": ""
           }
          },
          "title": {
           "x": 0.05
          },
          "xaxis": {
           "automargin": true,
           "gridcolor": "white",
           "linecolor": "white",
           "ticks": "",
           "title": {
            "standoff": 15
           },
           "zerolinecolor": "white",
           "zerolinewidth": 2
          },
          "yaxis": {
           "automargin": true,
           "gridcolor": "white",
           "linecolor": "white",
           "ticks": "",
           "title": {
            "standoff": 15
           },
           "zerolinecolor": "white",
           "zerolinewidth": 2
          }
         }
        }
       }
      }
     },
     "metadata": {},
     "output_type": "display_data"
    }
   ],
   "source": [
    "import plotly.express as px\n",
    "fig = px.sunburst(df, path=['Product Type', 'CHANNEL', 'Fraud Category'], values='Premium')\n",
    "fig.show()\n"
   ]
  }
 ],
 "metadata": {
  "kernelspec": {
   "display_name": "Python 3",
   "language": "python",
   "name": "python3"
  },
  "language_info": {
   "codemirror_mode": {
    "name": "ipython",
    "version": 3
   },
   "file_extension": ".py",
   "mimetype": "text/x-python",
   "name": "python",
   "nbconvert_exporter": "python",
   "pygments_lexer": "ipython3",
   "version": "3.11.1"
  }
 },
 "nbformat": 4,
 "nbformat_minor": 5
}
